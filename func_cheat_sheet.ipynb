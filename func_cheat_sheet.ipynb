{
 "cells": [
  {
   "cell_type": "markdown",
   "metadata": {},
   "source": [
    "# Welcome to the FunC interactive cheat sheet!\n",
    "Language basics will be covered, more information can be found in the TON repo:\n",
    "1. [Tests](https://github.com/ton-blockchain/ton/tree/9c9248a9ae1791152d88c9c36574b4becdf5e8b6/crypto/func/test)\n",
    "2. [Sample contracts](https://github.com/ton-blockchain/ton/tree/9c9248a9ae1791152d88c9c36574b4becdf5e8b6/crypto/smartcont)\n",
    "3. [TVM docs](https://test.ton.org/tvm.pdf)"
   ]
  },
  {
   "cell_type": "markdown",
   "metadata": {},
   "source": [
    "## Xeus-Fift specific features"
   ]
  },
  {
   "cell_type": "code",
   "execution_count": 93,
   "metadata": {},
   "outputs": [
    {
     "data": {
      "text/html": [
       "<pre></pre>"
      ],
      "text/plain": []
     },
     "execution_count": 93,
     "metadata": {},
     "output_type": "execute_result"
    }
   ],
   "source": [
    "#include \"stdlib.fc\"  ;; searches for file in the FUNCPATH and workdir"
   ]
  },
  {
   "cell_type": "markdown",
   "metadata": {},
   "source": [
    "## Integer operations\n",
    "Underlying TVM type: signed 257-bit integers, representing integer numbers in the\n",
    "range -2^256 ... 2^256 − 1\n",
    "\n",
    "* Arithmetic `+`  `-`  `*`  `/`  `%`   \n",
    "* Bitwise `&`  `|`  `<<`  `>>`   \n",
    "* Boolean `<`  `<=`  `>`  `>=`  `==`  `!=` "
   ]
  },
  {
   "cell_type": "markdown",
   "metadata": {},
   "source": [
    "### Additional"
   ]
  },
  {
   "cell_type": "code",
   "execution_count": 59,
   "metadata": {},
   "outputs": [
    {
     "data": {
      "text/html": [
       "<pre>129</pre>"
      ],
      "text/plain": [
       "129"
      ]
     },
     "execution_count": 59,
     "metadata": {},
     "output_type": "execute_result"
    }
   ],
   "source": [
    "0x01 ^ 0x80  ;; xor"
   ]
  },
  {
   "cell_type": "code",
   "execution_count": 60,
   "metadata": {},
   "outputs": [
    {
     "data": {
      "text/html": [
       "<pre>1</pre>"
      ],
      "text/plain": [
       "1"
      ]
     },
     "execution_count": 60,
     "metadata": {},
     "output_type": "execute_result"
    }
   ],
   "source": [
    "8 <=> -4  ;; compare (1 if equal, -1 if less, 0 otherwise)"
   ]
  },
  {
   "cell_type": "code",
   "execution_count": 210,
   "metadata": {},
   "outputs": [
    {
     "data": {
      "text/html": [
       "<pre>-1</pre>"
      ],
      "text/plain": [
       "-1"
      ]
     },
     "execution_count": 210,
     "metadata": {},
     "output_type": "execute_result"
    }
   ],
   "source": [
    "~ 0xff + 0xff  ;; bitwise complement"
   ]
  },
  {
   "cell_type": "code",
   "execution_count": 214,
   "metadata": {},
   "outputs": [
    {
     "data": {
      "text/html": [
       "<pre>-2</pre>"
      ],
      "text/plain": [
       "-2"
      ]
     },
     "execution_count": 214,
     "metadata": {},
     "output_type": "execute_result"
    }
   ],
   "source": [
    "min(-2, 0)"
   ]
  },
  {
   "cell_type": "code",
   "execution_count": 216,
   "metadata": {},
   "outputs": [
    {
     "data": {
      "text/html": [
       "<pre>3</pre>"
      ],
      "text/plain": [
       "3"
      ]
     },
     "execution_count": 216,
     "metadata": {},
     "output_type": "execute_result"
    }
   ],
   "source": [
    "max(2, 3)"
   ]
  },
  {
   "cell_type": "markdown",
   "metadata": {},
   "source": [
    "### Division rounding rules"
   ]
  },
  {
   "cell_type": "code",
   "execution_count": 38,
   "metadata": {},
   "outputs": [
    {
     "data": {
      "text/html": [
       "<pre>2</pre>"
      ],
      "text/plain": [
       "2"
      ]
     },
     "execution_count": 38,
     "metadata": {},
     "output_type": "execute_result"
    }
   ],
   "source": [
    "9 ~>> 2  ;; division by 2^n using nearest-integer rounding"
   ]
  },
  {
   "cell_type": "code",
   "execution_count": 39,
   "metadata": {},
   "outputs": [
    {
     "data": {
      "text/html": [
       "<pre>3</pre>"
      ],
      "text/plain": [
       "3"
      ]
     },
     "execution_count": 39,
     "metadata": {},
     "output_type": "execute_result"
    }
   ],
   "source": [
    "9 ^>> 2  ;; division by 2^n using ceiling rounding"
   ]
  },
  {
   "cell_type": "markdown",
   "metadata": {},
   "source": [
    "Rounding works similarly for integer division and modular division operators:  \n",
    "`~/`  `^/`  `~%`  `^%`"
   ]
  },
  {
   "cell_type": "markdown",
   "metadata": {},
   "source": [
    "### Compound operators"
   ]
  },
  {
   "cell_type": "code",
   "execution_count": 40,
   "metadata": {},
   "outputs": [
    {
     "data": {
      "text/html": [
       "<pre>5 1</pre>"
      ],
      "text/plain": [
       "5 1"
      ]
     },
     "execution_count": 40,
     "metadata": {},
     "output_type": "execute_result"
    }
   ],
   "source": [
    "11 /% 2  ;; extended mod division: computes both the quotient and the remainder"
   ]
  },
  {
   "cell_type": "code",
   "execution_count": 65,
   "metadata": {},
   "outputs": [
    {
     "data": {
      "text/html": [
       "<pre>5 1</pre>"
      ],
      "text/plain": [
       "5 1"
      ]
     },
     "execution_count": 65,
     "metadata": {},
     "output_type": "execute_result"
    }
   ],
   "source": [
    "divmod(11, 2)  ;; same effect"
   ]
  },
  {
   "cell_type": "code",
   "execution_count": 66,
   "metadata": {},
   "outputs": [
    {
     "data": {
      "text/html": [
       "<pre>1 5</pre>"
      ],
      "text/plain": [
       "1 5"
      ]
     },
     "execution_count": 66,
     "metadata": {},
     "output_type": "execute_result"
    }
   ],
   "source": [
    "moddiv(11, 2)  ;; change output order"
   ]
  },
  {
   "cell_type": "code",
   "execution_count": 67,
   "metadata": {},
   "outputs": [
    {
     "data": {
      "text/html": [
       "<pre>5 1</pre>"
      ],
      "text/plain": [
       "5 1"
      ]
     },
     "execution_count": 67,
     "metadata": {},
     "output_type": "execute_result"
    }
   ],
   "source": [
    "int x = 11;  ;; declaring variable of type `int`\n",
    "x~divmod(2)  ;; non-const method (starting with `~`)"
   ]
  },
  {
   "cell_type": "code",
   "execution_count": 98,
   "metadata": {},
   "outputs": [
    {
     "data": {
      "text/html": [
       "<pre>44</pre>"
      ],
      "text/plain": [
       "44"
      ]
     },
     "execution_count": 98,
     "metadata": {},
     "output_type": "execute_result"
    }
   ],
   "source": [
    "int x = 42;\n",
    "x += 2"
   ]
  },
  {
   "cell_type": "markdown",
   "metadata": {},
   "source": [
    "Similar let-constructions can be made on top of with practically all integer operators:  \n",
    "`-=` `*=` `/=` `%=`  \n",
    "`&=` `|=` `<<=` `>>=` `^=`  \n",
    "`~>>=` `^>>=` `~/=` `^/=` `~%=` `^%=`"
   ]
  },
  {
   "cell_type": "code",
   "execution_count": 104,
   "metadata": {},
   "outputs": [
    {
     "data": {
      "text/html": [
       "<pre>4</pre>"
      ],
      "text/plain": [
       "4"
      ]
     },
     "execution_count": 104,
     "metadata": {},
     "output_type": "execute_result"
    }
   ],
   "source": [
    "muldiv(3, 3, 2)  ;; equivalent of `a * b / c`"
   ]
  },
  {
   "cell_type": "code",
   "execution_count": 105,
   "metadata": {},
   "outputs": [
    {
     "data": {
      "text/html": [
       "<pre>5</pre>"
      ],
      "text/plain": [
       "5"
      ]
     },
     "execution_count": 105,
     "metadata": {},
     "output_type": "execute_result"
    }
   ],
   "source": [
    "muldivr(3, 3, 2)  ;; equivalent of `a * b ~/ c`"
   ]
  },
  {
   "cell_type": "markdown",
   "metadata": {},
   "source": [
    "### Constants"
   ]
  },
  {
   "cell_type": "code",
   "execution_count": 87,
   "metadata": {},
   "outputs": [
    {
     "data": {
      "text/html": [
       "<pre>-1</pre>"
      ],
      "text/plain": [
       "-1"
      ]
     },
     "execution_count": 87,
     "metadata": {},
     "output_type": "execute_result"
    }
   ],
   "source": [
    "true"
   ]
  },
  {
   "cell_type": "code",
   "execution_count": 191,
   "metadata": {},
   "outputs": [
    {
     "data": {
      "text/html": [
       "<pre>0</pre>"
      ],
      "text/plain": [
       "0"
      ]
     },
     "execution_count": 191,
     "metadata": {},
     "output_type": "execute_result"
    }
   ],
   "source": [
    "false"
   ]
  },
  {
   "cell_type": "code",
   "execution_count": 192,
   "metadata": {},
   "outputs": [
    {
     "data": {
      "text/html": [
       "<pre>-1</pre>"
      ],
      "text/plain": [
       "-1"
      ]
     },
     "execution_count": 192,
     "metadata": {},
     "output_type": "execute_result"
    }
   ],
   "source": [
    "~ false"
   ]
  },
  {
   "cell_type": "markdown",
   "metadata": {},
   "source": [
    "## Tuple manipulation\n",
    "### FunC syntax convenience"
   ]
  },
  {
   "cell_type": "code",
   "execution_count": 194,
   "metadata": {},
   "outputs": [
    {
     "data": {
      "text/html": [
       "<pre>1 2 3</pre>"
      ],
      "text/plain": [
       "1 2 3"
      ]
     },
     "execution_count": 194,
     "metadata": {},
     "output_type": "execute_result"
    }
   ],
   "source": [
    "var t = (1, 2, 3);  ;; packing\n",
    "t"
   ]
  },
  {
   "cell_type": "code",
   "execution_count": 174,
   "metadata": {},
   "outputs": [
    {
     "data": {
      "text/html": [
       "<pre>2</pre>"
      ],
      "text/plain": [
       "2"
      ]
     },
     "execution_count": 174,
     "metadata": {},
     "output_type": "execute_result"
    }
   ],
   "source": [
    "var (a, b, c) = (1, 2, 3);  ;; unpacking\n",
    "b"
   ]
  },
  {
   "cell_type": "code",
   "execution_count": 175,
   "metadata": {},
   "outputs": [
    {
     "data": {
      "text/html": [
       "<pre>2 3</pre>"
      ],
      "text/plain": [
       "2 3"
      ]
     },
     "execution_count": 175,
     "metadata": {},
     "output_type": "execute_result"
    }
   ],
   "source": [
    "var (a, b) = (1, (2, 3));\n",
    "b"
   ]
  },
  {
   "cell_type": "code",
   "execution_count": 234,
   "metadata": {},
   "outputs": [
    {
     "data": {
      "text/html": [
       "<pre>205</pre>"
      ],
      "text/plain": [
       "205"
      ]
     },
     "execution_count": 234,
     "metadata": {},
     "output_type": "execute_result"
    }
   ],
   "source": [
    "var (_, x, _) = (0xab, 0xcd, 0xef);  ;; one can use special operand `_` for values that won't be used\n",
    "x"
   ]
  },
  {
   "cell_type": "markdown",
   "metadata": {},
   "source": [
    "### TVM tuples\n",
    "An ordered collection of up to 255 components, having arbitrary value types, possibly distinct.  \n",
    "May be used to represent nonpersistent values of arbitrary algebraic data types."
   ]
  },
  {
   "cell_type": "code",
   "execution_count": 176,
   "metadata": {},
   "outputs": [
    {
     "data": {
      "text/html": [
       "<pre>[]</pre>"
      ],
      "text/plain": [
       "[]"
      ]
     },
     "execution_count": 176,
     "metadata": {},
     "output_type": "execute_result"
    }
   ],
   "source": [
    "Nil  ;; 0-tuple"
   ]
  },
  {
   "cell_type": "markdown",
   "metadata": {},
   "source": [
    "#### Pairs"
   ]
  },
  {
   "cell_type": "code",
   "execution_count": 177,
   "metadata": {},
   "outputs": [
    {
     "data": {
      "text/html": [
       "<pre>[ 57005 48815 ]</pre>"
      ],
      "text/plain": [
       "[ 57005 48815 ]"
      ]
     },
     "execution_count": 177,
     "metadata": {},
     "output_type": "execute_result"
    }
   ],
   "source": [
    "pair(0xdead, 0xbeaf)"
   ]
  },
  {
   "cell_type": "code",
   "execution_count": 208,
   "metadata": {},
   "outputs": [
    {
     "data": {
      "text/html": [
       "<pre>48815</pre>"
      ],
      "text/plain": [
       "48815"
      ]
     },
     "execution_count": 208,
     "metadata": {},
     "output_type": "execute_result"
    }
   ],
   "source": [
    "second(pair(0xdead, 0xbeaf))"
   ]
  },
  {
   "cell_type": "code",
   "execution_count": 217,
   "metadata": {},
   "outputs": [
    {
     "data": {
      "text/html": [
       "<pre>57005</pre>"
      ],
      "text/plain": [
       "57005"
      ]
     },
     "execution_count": 217,
     "metadata": {},
     "output_type": "execute_result"
    }
   ],
   "source": [
    "at(pair(0xdead, 0xbeaf), 0)  ;; universal helper for tuples"
   ]
  },
  {
   "cell_type": "code",
   "execution_count": 179,
   "metadata": {},
   "outputs": [
    {
     "data": {
      "text/html": [
       "<pre>57005 48815</pre>"
      ],
      "text/plain": [
       "57005 48815"
      ]
     },
     "execution_count": 179,
     "metadata": {},
     "output_type": "execute_result"
    }
   ],
   "source": [
    "unpair(pair(0xdead, 0xbeaf))"
   ]
  },
  {
   "cell_type": "markdown",
   "metadata": {},
   "source": [
    "#### Triples"
   ]
  },
  {
   "cell_type": "code",
   "execution_count": 180,
   "metadata": {},
   "outputs": [
    {
     "data": {
      "text/html": [
       "<pre>[ 1 2 3 ]</pre>"
      ],
      "text/plain": [
       "[ 1 2 3 ]"
      ]
     },
     "execution_count": 180,
     "metadata": {},
     "output_type": "execute_result"
    }
   ],
   "source": [
    "triple(1, 2, 3)"
   ]
  },
  {
   "cell_type": "code",
   "execution_count": 202,
   "metadata": {},
   "outputs": [
    {
     "data": {
      "text/html": [
       "<pre>3</pre>"
      ],
      "text/plain": [
       "3"
      ]
     },
     "execution_count": 202,
     "metadata": {},
     "output_type": "execute_result"
    }
   ],
   "source": [
    "third(triple(1, 2, 3))"
   ]
  },
  {
   "cell_type": "code",
   "execution_count": 182,
   "metadata": {},
   "outputs": [
    {
     "data": {
      "text/html": [
       "<pre>1 2 3</pre>"
      ],
      "text/plain": [
       "1 2 3"
      ]
     },
     "execution_count": 182,
     "metadata": {},
     "output_type": "execute_result"
    }
   ],
   "source": [
    "untriple(triple(1, 2, 3))"
   ]
  },
  {
   "cell_type": "markdown",
   "metadata": {},
   "source": [
    "#### 4-tuples"
   ]
  },
  {
   "cell_type": "code",
   "execution_count": 183,
   "metadata": {},
   "outputs": [
    {
     "data": {
      "text/html": [
       "<pre>[ -10 -20 -30 -40 ]</pre>"
      ],
      "text/plain": [
       "[ -10 -20 -30 -40 ]"
      ]
     },
     "execution_count": 183,
     "metadata": {},
     "output_type": "execute_result"
    }
   ],
   "source": [
    "tuple4(-10, -20, -30, -40)"
   ]
  },
  {
   "cell_type": "code",
   "execution_count": 184,
   "metadata": {},
   "outputs": [
    {
     "data": {
      "text/html": [
       "<pre>-40</pre>"
      ],
      "text/plain": [
       "-40"
      ]
     },
     "execution_count": 184,
     "metadata": {},
     "output_type": "execute_result"
    }
   ],
   "source": [
    "fourth(tuple4(-10, -20, -30, -40))"
   ]
  },
  {
   "cell_type": "code",
   "execution_count": 185,
   "metadata": {},
   "outputs": [
    {
     "data": {
      "text/html": [
       "<pre>-10 -20 -30 -40</pre>"
      ],
      "text/plain": [
       "-10 -20 -30 -40"
      ]
     },
     "execution_count": 185,
     "metadata": {},
     "output_type": "execute_result"
    }
   ],
   "source": [
    "untuple4(tuple4(-10, -20, -30, -40))"
   ]
  },
  {
   "cell_type": "markdown",
   "metadata": {},
   "source": [
    "#### Lists"
   ]
  },
  {
   "cell_type": "code",
   "execution_count": 186,
   "metadata": {},
   "outputs": [
    {
     "data": {
      "text/html": [
       "<pre>[ 1 [ 2 [ 3 [] ] ] ]</pre>"
      ],
      "text/plain": [
       "[ 1 [ 2 [ 3 [] ] ] ]"
      ]
     },
     "execution_count": 186,
     "metadata": {},
     "output_type": "execute_result"
    }
   ],
   "source": [
    "cons(1, cons(2, cons(3, Nil)))"
   ]
  },
  {
   "cell_type": "code",
   "execution_count": 187,
   "metadata": {},
   "outputs": [
    {
     "data": {
      "text/html": [
       "<pre>1 [ 2 [ 3 [] ] ]</pre>"
      ],
      "text/plain": [
       "1 [ 2 [ 3 [] ] ]"
      ]
     },
     "execution_count": 187,
     "metadata": {},
     "output_type": "execute_result"
    }
   ],
   "source": [
    "uncons(cons(1, cons(2, cons(3, Nil))))  ;; (head, tail)"
   ]
  },
  {
   "cell_type": "code",
   "execution_count": 188,
   "metadata": {},
   "outputs": [
    {
     "data": {
      "text/html": [
       "<pre>1</pre>"
      ],
      "text/plain": [
       "1"
      ]
     },
     "execution_count": 188,
     "metadata": {},
     "output_type": "execute_result"
    }
   ],
   "source": [
    "car(cons(1, cons(2, cons(3, Nil))))  ;; head"
   ]
  },
  {
   "cell_type": "code",
   "execution_count": 189,
   "metadata": {},
   "outputs": [
    {
     "data": {
      "text/html": [
       "<pre>[ 2 [ 3 [] ] ]</pre>"
      ],
      "text/plain": [
       "[ 2 [ 3 [] ] ]"
      ]
     },
     "execution_count": 189,
     "metadata": {},
     "output_type": "execute_result"
    }
   ],
   "source": [
    "cdr(cons(1, cons(2, cons(3, Nil))))  ;; tail"
   ]
  },
  {
   "cell_type": "code",
   "execution_count": 190,
   "metadata": {},
   "outputs": [
    {
     "data": {
      "text/html": [
       "<pre>[ 2 [ 3 [] ] ] 1</pre>"
      ],
      "text/plain": [
       "[ 2 [ 3 [] ] ] 1"
      ]
     },
     "execution_count": 190,
     "metadata": {},
     "output_type": "execute_result"
    }
   ],
   "source": [
    "list_next(cons(1, cons(2, cons(3, Nil))));  ;; (tail, head)"
   ]
  },
  {
   "cell_type": "markdown",
   "metadata": {},
   "source": [
    "## Cell manipulation\n",
    "A TVM cell consists of at most 1023 bits of data, and of at\n",
    "most four references to other cells.  \n",
    "All persistent data (including TVM\n",
    "code) in the TON Blockchain is represented as a collection of TVM\n",
    "cells.  \n",
    "\n",
    "The cell primitives are mostly either cell serialization primitives, which work\n",
    "with Builder s, or cell deserialization primitives, which work with Slices."
   ]
  },
  {
   "cell_type": "markdown",
   "metadata": {},
   "source": [
    "### Cell serialization primitives\n",
    "#### Builder\n",
    "A TVM cell builder, or builder for short, is an “incomplete”\n",
    "cell that supports fast operations of appending bitstrings and cell references at its end.  \n",
    "Builders are used for packing (or serializing) data\n",
    "from the top of the stack into new cells (e.g., before transferring them\n",
    "to persistent storage)."
   ]
  },
  {
   "cell_type": "code",
   "execution_count": 255,
   "metadata": {},
   "outputs": [
    {
     "data": {
      "text/html": [
       "<pre>BC{0000}</pre>"
      ],
      "text/plain": [
       "BC{0000}"
      ]
     },
     "execution_count": 255,
     "metadata": {},
     "output_type": "execute_result"
    }
   ],
   "source": [
    "builder b = begin_cell()  ;; two descriptor bytes come first (read more in 3.1.4. Standard cell representation)"
   ]
  },
  {
   "cell_type": "code",
   "execution_count": 246,
   "metadata": {},
   "outputs": [
    {
     "data": {
      "text/html": [
       "<pre>C{96A296D224F285C67BEE93C30F8A309157F0DAA35DC5B87E410B78630A09CFC7}</pre>"
      ],
      "text/plain": [
       "C{96A296D224F285C67BEE93C30F8A309157F0DAA35DC5B87E410B78630A09CFC7}"
      ]
     },
     "execution_count": 246,
     "metadata": {},
     "output_type": "execute_result"
    }
   ],
   "source": [
    "cell res = end_cell(begin_cell());"
   ]
  },
  {
   "cell_type": "code",
   "execution_count": 287,
   "metadata": {},
   "outputs": [
    {
     "data": {
      "text/html": [
       "<pre>C{96A296D224F285C67BEE93C30F8A309157F0DAA35DC5B87E410B78630A09CFC7}</pre>"
      ],
      "text/plain": [
       "C{96A296D224F285C67BEE93C30F8A309157F0DAA35DC5B87E410B78630A09CFC7}"
      ]
     },
     "execution_count": 287,
     "metadata": {},
     "output_type": "execute_result"
    }
   ],
   "source": [
    "begin_cell().end_cell()  ;; const method (dot is not a part of function name)"
   ]
  },
  {
   "cell_type": "code",
   "execution_count": 281,
   "metadata": {},
   "outputs": [
    {
     "data": {
      "text/html": [
       "<pre>BC{0008ffffff01}</pre>"
      ],
      "text/plain": [
       "BC{0008ffffff01}"
      ]
     },
     "execution_count": 281,
     "metadata": {},
     "output_type": "execute_result"
    }
   ],
   "source": [
    "begin_cell().store_int(-0xFF, 32)  ;; we added a 32bit signed integer"
   ]
  },
  {
   "cell_type": "code",
   "execution_count": 283,
   "metadata": {},
   "outputs": [
    {
     "ename": "VM error",
     "evalue": "integer out of range",
     "output_type": "error",
     "traceback": [
      "VM error: integer out of range"
     ]
    }
   ],
   "source": [
    "begin_cell().store_uint(-42, 32)"
   ]
  },
  {
   "cell_type": "code",
   "execution_count": 284,
   "metadata": {},
   "outputs": [
    {
     "data": {
      "text/html": [
       "<pre>BC{0100}</pre>"
      ],
      "text/plain": [
       "BC{0100}"
      ]
     },
     "execution_count": 284,
     "metadata": {},
     "output_type": "execute_result"
    }
   ],
   "source": [
    "cell c1 = begin_cell().store_int(1, 8).end_cell();\n",
    "begin_cell().store_ref(c1)  ;; first byte indicates that cell holds one reference"
   ]
  },
  {
   "cell_type": "markdown",
   "metadata": {},
   "source": [
    "#### Slice\n",
    "A TVM cell slice, or slice for short, is a contiguous “sub-cell”\n",
    "of an existing cell, containing some of its bits of data and some of its\n",
    "references.  \n",
    "Essentially, a slice is a read-only view for a subcell of a cell.  \n",
    "Slices are used for unpacking data previously stored (or serialized) in a\n",
    "cell or a tree of cells."
   ]
  },
  {
   "cell_type": "code",
   "execution_count": null,
   "metadata": {},
   "outputs": [],
   "source": []
  },
  {
   "cell_type": "code",
   "execution_count": null,
   "metadata": {},
   "outputs": [],
   "source": []
  },
  {
   "cell_type": "code",
   "execution_count": null,
   "metadata": {},
   "outputs": [],
   "source": []
  },
  {
   "cell_type": "code",
   "execution_count": null,
   "metadata": {},
   "outputs": [],
   "source": []
  },
  {
   "cell_type": "code",
   "execution_count": null,
   "metadata": {},
   "outputs": [],
   "source": []
  },
  {
   "cell_type": "markdown",
   "metadata": {},
   "source": [
    "#### Hashmaps\n",
    "Hashmaps, or dictionaries, are a specific data structure represented by a tree\n",
    "of cells."
   ]
  },
  {
   "cell_type": "code",
   "execution_count": 294,
   "metadata": {},
   "outputs": [
    {
     "data": {
      "text/html": [
       "<pre>(null)</pre>"
      ],
      "text/plain": [
       "(null)"
      ]
     },
     "execution_count": 294,
     "metadata": {},
     "output_type": "execute_result"
    }
   ],
   "source": [
    "new_dict()"
   ]
  },
  {
   "cell_type": "code",
   "execution_count": 295,
   "metadata": {},
   "outputs": [
    {
     "data": {
      "text/html": [
       "<pre>-1</pre>"
      ],
      "text/plain": [
       "-1"
      ]
     },
     "execution_count": 295,
     "metadata": {},
     "output_type": "execute_result"
    }
   ],
   "source": [
    "dict_empty?(new_dict())"
   ]
  },
  {
   "cell_type": "code",
   "execution_count": 293,
   "metadata": {},
   "outputs": [
    {
     "data": {
      "text/html": [
       "<pre>CS{Cell{0012a0000000ff000000ff} bits: 0..72; refs: 0..0}</pre>"
      ],
      "text/plain": [
       "CS{Cell{0012a0000000ff000000ff} bits: 0..72; refs: 0..0}"
      ]
     },
     "execution_count": 293,
     "metadata": {},
     "output_type": "execute_result"
    }
   ],
   "source": [
    "var d = new_dict();\n",
    "var b = begin_cell().store_int(0xff, 32);\n",
    "d~idict_set_builder(32, 0xff, b);\n",
    "d.begin_parse()"
   ]
  },
  {
   "cell_type": "code",
   "execution_count": null,
   "metadata": {},
   "outputs": [],
   "source": []
  }
 ],
 "metadata": {
  "kernelspec": {
   "display_name": "FunC",
   "language": "FunC",
   "name": "func"
  },
  "language_info": {
   "codemirror_mode": "func",
   "file_extension": ".fc",
   "mimetype": "text/x-func",
   "name": "func",
   "version": "0.5"
  }
 },
 "nbformat": 4,
 "nbformat_minor": 2
}
